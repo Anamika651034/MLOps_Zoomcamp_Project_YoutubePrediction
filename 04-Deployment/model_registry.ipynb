{
 "cells": [
  {
   "cell_type": "code",
   "execution_count": 3,
   "metadata": {},
   "outputs": [],
   "source": [
    "import mlflow\n",
    "from mlflow.tracking import MlflowClient\n",
    "from mlflow.entities import ViewType\n",
    "\n",
    "from datetime import datetime\n",
    "\n",
    "import pickle\n",
    "from sklearn.metrics import accuracy_score\n",
    "import pandas as pd"
   ]
  },
  {
   "cell_type": "code",
   "execution_count": 4,
   "metadata": {},
   "outputs": [
    {
     "data": {
      "text/plain": [
       "[<Experiment: artifact_location='/workspaces/MLOps_Zoomcamp_Project_YoutubePrediction/07-Project/mlruns/1', creation_time=1720082887337, experiment_id='1', last_update_time=1720082887337, lifecycle_stage='active', name='mlops_zoomcamp_youtube_pred_experiment', tags={}>,\n",
       " <Experiment: artifact_location='/workspaces/MLOps_Zoomcamp_Project_YoutubePrediction/07-Project/mlruns/0', creation_time=1720082887291, experiment_id='0', last_update_time=1720082887291, lifecycle_stage='active', name='Default', tags={}>]"
      ]
     },
     "execution_count": 4,
     "metadata": {},
     "output_type": "execute_result"
    }
   ],
   "source": [
    "MLFLOW_TRACKING_URI = \"sqlite:///mlflow.db\"\n",
    "client = MlflowClient(tracking_uri=MLFLOW_TRACKING_URI)\n",
    "\n",
    "client.search_experiments()"
   ]
  },
  {
   "cell_type": "code",
   "execution_count": 5,
   "metadata": {},
   "outputs": [
    {
     "name": "stdout",
     "output_type": "stream",
     "text": [
      "run id: 656b95c902e1437f978d34392367bef1, mean_absolute_error: 9217397.0123\n",
      "run id: 6fd06f6824cb4e4ea30c2c5914aed0ed, mean_absolute_error: 9217397.0123\n"
     ]
    }
   ],
   "source": [
    "runs = client.search_runs(\n",
    "    experiment_ids='1',\n",
    "    filter_string=\"metrics.mean_absolute_error > 1\",\n",
    "    run_view_type=ViewType.ACTIVE_ONLY,\n",
    "    max_results=5,\n",
    "    order_by=[\"metrics.mean_absolute_error DESC\"]\n",
    ")\n",
    "\n",
    "\n",
    "for run in runs:\n",
    "    print(f\"run id: {run.info.run_id}, mean_absolute_error: {run.data.metrics['mean_absolute_error']:.4f}\")"
   ]
  },
  {
   "cell_type": "code",
   "execution_count": 6,
   "metadata": {},
   "outputs": [
    {
     "name": "stderr",
     "output_type": "stream",
     "text": [
      "Successfully registered model 'mlops-zoomcamp-registry'.\n",
      "Created version '1' of model 'mlops-zoomcamp-registry'.\n",
      "Registered model 'mlops-zoomcamp-registry' already exists. Creating a new version of this model...\n",
      "Created version '2' of model 'mlops-zoomcamp-registry'.\n"
     ]
    }
   ],
   "source": [
    "mlflow.set_tracking_uri(MLFLOW_TRACKING_URI)\n",
    "\n",
    "for run in runs[::-1]:\n",
    "    run_id = run.info.run_id\n",
    "    model_uri = f\"runs:/{run_id}/model\"\n",
    "    mlflow.register_model(model_uri=model_uri, name=\"mlops-zoomcamp-registry\")"
   ]
  }
 ],
 "metadata": {
  "kernelspec": {
   "display_name": "exp-tracking-env",
   "language": "python",
   "name": "python3"
  },
  "language_info": {
   "codemirror_mode": {
    "name": "ipython",
    "version": 3
   },
   "file_extension": ".py",
   "mimetype": "text/x-python",
   "name": "python",
   "nbconvert_exporter": "python",
   "pygments_lexer": "ipython3",
   "version": "3.9.19"
  }
 },
 "nbformat": 4,
 "nbformat_minor": 2
}
