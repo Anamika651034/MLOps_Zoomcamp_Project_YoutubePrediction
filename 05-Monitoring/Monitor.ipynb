{
 "cells": [
  {
   "cell_type": "code",
   "execution_count": null,
   "metadata": {},
   "outputs": [],
   "source": [
    "# Importing the libraries\n",
    "import numpy as np\n",
    "import pandas as pd\n",
    "from sklearn.model_selection import train_test_split\n",
    "from sklearn.linear_model import LinearRegression\n",
    "import pickle\n",
    "import requests\n",
    "import json\n",
    "#For Evaluating the model\n",
    "from sklearn.metrics import mean_absolute_error, mean_squared_error\n",
    "#preprocessing pipeline\n",
    "from sklearn.pipeline import Pipeline\n",
    "from sklearn.preprocessing import OneHotEncoder, StandardScaler\n",
    "#Combine preprocessing\n",
    "from sklearn.compose import ColumnTransformer\n",
    "import re\n",
    "\n",
    "import mlflow\n",
    "\n",
    "mlflow.set_tracking_uri(\"sqlite:///mlflow.db\")\n",
    "mlflow.set_experiment(\"mlops_zoomcamp_youtube_pred_experiment\")\n",
    "\n",
    "from joblib import load, dump\n",
    "from tqdm import tqdm\n",
    "from evidently import ColumnMapping\n",
    "from evidently.report import Report\n",
    "from evidently.metrics import ColumnDriftMetric, DatasetDriftMetric, DatasetMissingValuesMetric"
   ]
  },
  {
   "cell_type": "code",
   "execution_count": null,
   "metadata": {},
   "outputs": [],
   "source": [
    "# Importing the dataset\n",
    "data = pd.read_csv('/workspaces/MLOps_Zoomcamp_Project_YoutubePrediction/dataset/youtube.csv') \n",
    "\n",
    "# Clean numeric columns\n",
    "def clean_numeric_column(column):\n",
    "    cleaned_column = []\n",
    "    for value in column:\n",
    "        if isinstance(value, str):\n",
    "            if 'K' in value:\n",
    "                cleaned_column.append(float(re.sub(r'[^0-9.]', '', value)) * 1000)\n",
    "            elif 'M' in value:\n",
    "                cleaned_column.append(float(re.sub(r'[^0-9.]', '', value)) * 1000000)\n",
    "            elif 'B' in value:\n",
    "                cleaned_column.append(float(re.sub(r'[^0-9.]', '', value)) * 1000000000)\n",
    "            else:\n",
    "                cleaned_column.append(float(re.sub(r'[^0-9.]', '', value)))\n",
    "        else:\n",
    "            cleaned_column.append(value)\n",
    "    return cleaned_column\n",
    "\n",
    "data['VIEWS'] = clean_numeric_column(data['VIEWS'])\n",
    "data['TOTAL_NUMBER_OF_VIDEOS'] = clean_numeric_column(data['TOTAL_NUMBER_OF_VIDEOS'])\n",
    "data['SUBSCRIBERS'] = clean_numeric_column(data['SUBSCRIBERS'])\n",
    "\n",
    "# Features and target\n",
    "X = data[['VIEWS', 'TOTAL_NUMBER_OF_VIDEOS', 'CATEGORY']]\n",
    "y = data['SUBSCRIBERS']\n",
    "\n",
    "#Define preprocessing steps for numerical and categorial features\n",
    "numeric_features = ['VIEWS', 'TOTAL_NUMBER_OF_VIDEOS']\n",
    "numeric_transformer = Pipeline(steps=[\n",
    "   ('scaler', StandardScaler())\n",
    "])\n",
    "categorical_features = ['CATEGORY']\n",
    "categorical_transformer = Pipeline(steps=[\n",
    "   ('onehot', OneHotEncoder(handle_unknown='ignore'))\n",
    "])\n",
    "\n",
    "#Combine preprocessing steps using ColumnTransformer\n",
    "preprocessor = ColumnTransformer(\n",
    "   transformers=[\n",
    "       ('num', numeric_transformer, numeric_features),\n",
    "       ('cat', categorical_transformer, categorical_features)\n",
    "   ])\n",
    "\n",
    "# Splitting the dataset into the Training set and Test set\n",
    "X_train, X_test, y_train, y_test = train_test_split(X, y, test_size = 1/3, random_state = 0)\n",
    "print(\"Shape of X_train:\", X_train.shape)\n",
    "print(\"Shape of y_train:\", y_train.shape)\n",
    "print(X_train.head(1))\n",
    "\n",
    "# Model pipeline\n",
    "regressor = Pipeline(steps=[\n",
    "   ('preprocessor', preprocessor),\n",
    "   ('regressor', LinearRegression())  # Change to LinearRegression or any other regressor you want to use\n",
    "])\n",
    "regressor.fit(X_train, y_train)\n",
    "\n",
    "# Predicting the Test set results\n",
    "y_pred = regressor.predict(X_test)"
   ]
  },
  {
   "cell_type": "code",
   "execution_count": null,
   "metadata": {},
   "outputs": [],
   "source": [
    "column_mapping = ColumnMapping(\n",
    "    target=None,\n",
    "    prediction='prediction',\n",
    "    #categorical_features=categorical_features\n",
    ")"
   ]
  },
  {
   "cell_type": "code",
   "execution_count": null,
   "metadata": {},
   "outputs": [],
   "source": [
    "report = Report(metrics=[\n",
    "    ColumnDriftMetric(column_name='prediction'),\n",
    "    DatasetDriftMetric(),\n",
    "    DatasetMissingValuesMetric()\n",
    "]\n",
    ")"
   ]
  },
  {
   "cell_type": "code",
   "execution_count": null,
   "metadata": {},
   "outputs": [],
   "source": [
    "result = report.as_dict()\n",
    "result"
   ]
  },
  {
   "cell_type": "code",
   "execution_count": null,
   "metadata": {},
   "outputs": [],
   "source": [
    "report.show(mode='inline')\n"
   ]
  },
  {
   "cell_type": "code",
   "execution_count": null,
   "metadata": {},
   "outputs": [],
   "source": [
    "result['metrics']"
   ]
  }
 ],
 "metadata": {
  "language_info": {
   "name": "python"
  }
 },
 "nbformat": 4,
 "nbformat_minor": 2
}
