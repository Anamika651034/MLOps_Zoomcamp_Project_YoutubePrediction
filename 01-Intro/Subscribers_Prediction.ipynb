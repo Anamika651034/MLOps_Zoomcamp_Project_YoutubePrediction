{
 "cells": [
  {
   "cell_type": "code",
   "execution_count": null,
   "metadata": {},
   "outputs": [],
   "source": [
    "#ingest data\n",
    "import pandas as pd\n",
    "\n",
    "#For Evaluating the model\n",
    "from sklearn.metrics import mean_absolute_error, mean_squared_error\n",
    "\n",
    "#Algorithm used - LinearRegression\n",
    "from sklearn.linear_model import LinearRegression\n",
    "\n",
    "#To convert million , billion string into float\n",
    "import re\n",
    "\n",
    "#For plotting\n",
    "import matplotlib.pyplot as plt\n",
    "\n",
    "from sklearn.feature_extraction import DictVectorizer\n",
    "\n",
    "import seaborn as sns\n",
    "import matplotlib.pyplot as plt"
   ]
  },
  {
   "cell_type": "code",
   "execution_count": null,
   "metadata": {},
   "outputs": [],
   "source": [
    "# Load the data\n",
    "data = pd.read_csv('./dataset/youtube.csv')\n",
    "\n",
    "# Check for NaN values in the DataFrame\n",
    "print(\"NaNs before dropping rows:\")\n",
    "print(data.isnull().sum())\n",
    "\n",
    "# Drop rows with NaN values\n",
    "data.dropna(inplace=True)\n",
    "\n",
    "# Verify NaNs after dropping rows (should be 0 if all NaN rows were dropped)\n",
    "print(\"\\nNaNs after dropping rows:\")\n",
    "print(data.isnull().sum())"
   ]
  },
  {
   "cell_type": "code",
   "execution_count": null,
   "metadata": {},
   "outputs": [],
   "source": [
    "# Clean numeric columns\n",
    "def clean_numeric_column(column):\n",
    "    cleaned_column = []\n",
    "    for value in column:\n",
    "        if isinstance(value, str):\n",
    "            if 'K' in value:\n",
    "                cleaned_column.append(float(re.sub(r'[^0-9.]', '', value)) * 1000)\n",
    "            elif 'M' in value:\n",
    "                cleaned_column.append(float(re.sub(r'[^0-9.]', '', value)) * 1000000)\n",
    "            elif 'B' in value:\n",
    "                cleaned_column.append(float(re.sub(r'[^0-9.]', '', value)) * 1000000000)\n",
    "            else:\n",
    "                cleaned_column.append(float(re.sub(r'[^0-9.]', '', value)))\n",
    "        else:\n",
    "            cleaned_column.append(value)\n",
    "    return cleaned_column\n",
    "\n",
    "data['VIEWS'] = clean_numeric_column(data['VIEWS'])\n",
    "data['TOTAL_NUMBER_OF_VIDEOS'] = clean_numeric_column(data['TOTAL_NUMBER_OF_VIDEOS'])\n",
    "data['SUBSCRIBERS'] = clean_numeric_column(data['SUBSCRIBERS'])"
   ]
  },
  {
   "cell_type": "code",
   "execution_count": null,
   "metadata": {},
   "outputs": [],
   "source": [
    "data"
   ]
  },
  {
   "cell_type": "code",
   "execution_count": null,
   "metadata": {},
   "outputs": [],
   "source": [
    "# Define features and target\n",
    "numeric_features = ['VIEWS', 'TOTAL_NUMBER_OF_VIDEOS']\n",
    "categorical_features = ['CATEGORY']\n",
    "\n",
    "\n",
    "\n",
    "# Prepare data for training\n",
    "train_dicts = data[categorical_features + numeric_features].to_dict(orient='records')\n",
    "\n",
    "# Initialize DictVectorizer\n",
    "dv = DictVectorizer()\n",
    "\n",
    "# Transform categorical features into numerical representation\n",
    "X_train = dv.fit_transform(train_dicts)\n",
    "print(\"X_train shape:\", X_train.shape)\n",
    "\n",
    "# Extract target variable\n",
    "y_train = data['SUBSCRIBERS'].values\n",
    "print(\"y_train shape:\", y_train.shape)\n",
    "\n",
    "# Initialize Linear Regression model\n",
    "lr = LinearRegression()\n",
    "\n",
    "# Train the model\n",
    "lr.fit(X_train, y_train)\n",
    "\n",
    "# Predict on the training set\n",
    "y_pred = lr.predict(X_train)"
   ]
  },
  {
   "cell_type": "code",
   "execution_count": null,
   "metadata": {},
   "outputs": [],
   "source": [
    "# Evaluate the model\n",
    "\n",
    "mse = mean_squared_error(y_train, y_pred, squared=False)\n",
    "print(f'MSE: {mse}')"
   ]
  },
  {
   "cell_type": "code",
   "execution_count": null,
   "metadata": {},
   "outputs": [],
   "source": [
    "sns.distplot(y_pred, label='prediction')\n",
    "sns.distplot(y_train, label='actual')\n",
    "\n",
    "plt.legend()"
   ]
  }
 ],
 "metadata": {
  "language_info": {
   "name": "python"
  }
 },
 "nbformat": 4,
 "nbformat_minor": 2
}
