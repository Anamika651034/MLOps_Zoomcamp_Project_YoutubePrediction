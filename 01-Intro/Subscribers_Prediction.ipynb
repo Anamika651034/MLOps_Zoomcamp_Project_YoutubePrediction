{
 "cells": [
  {
   "cell_type": "code",
   "execution_count": 12,
   "metadata": {},
   "outputs": [],
   "source": [
    "#ingest data\n",
    "import pandas as pd\n",
    "\n",
    "#For Evaluating the model\n",
    "from sklearn.metrics import mean_absolute_error, mean_squared_error\n",
    "\n",
    "#Algorithm used - LinearRegression\n",
    "from sklearn.linear_model import LinearRegression\n",
    "\n",
    "#To convert million , billion string into float\n",
    "import re\n",
    "\n",
    "#For plotting\n",
    "import matplotlib.pyplot as plt\n",
    "\n",
    "from sklearn.feature_extraction import DictVectorizer\n",
    "\n",
    "import seaborn as sns\n",
    "import matplotlib.pyplot as plt"
   ]
  },
  {
   "cell_type": "code",
   "execution_count": 13,
   "metadata": {},
   "outputs": [
    {
     "name": "stdout",
     "output_type": "stream",
     "text": [
      "NaNs before dropping rows:\n",
      "RANK                      0\n",
      "NAME_OF_CHANNEL           7\n",
      "TOTAL_NUMBER_OF_VIDEOS    0\n",
      "SUBSCRIBERS               0\n",
      "VIEWS                     0\n",
      "CATEGORY                  8\n",
      "dtype: int64\n",
      "\n",
      "NaNs after dropping rows:\n",
      "RANK                      0\n",
      "NAME_OF_CHANNEL           0\n",
      "TOTAL_NUMBER_OF_VIDEOS    0\n",
      "SUBSCRIBERS               0\n",
      "VIEWS                     0\n",
      "CATEGORY                  0\n",
      "dtype: int64\n"
     ]
    }
   ],
   "source": [
    "# Load the data\n",
    "data = pd.read_csv('/workspaces/MLOps_Zoomcamp_Project_YoutubePrediction/dataset/youtube.csv')\n",
    "\n",
    "# Check for NaN values in the DataFrame\n",
    "print(\"NaNs before dropping rows:\")\n",
    "print(data.isnull().sum())\n",
    "\n",
    "# Drop rows with NaN values\n",
    "data.dropna(inplace=True)\n",
    "\n",
    "# Verify NaNs after dropping rows (should be 0 if all NaN rows were dropped)\n",
    "print(\"\\nNaNs after dropping rows:\")\n",
    "print(data.isnull().sum())"
   ]
  },
  {
   "cell_type": "code",
   "execution_count": 14,
   "metadata": {},
   "outputs": [],
   "source": [
    "# Clean numeric columns\n",
    "def clean_numeric_column(column):\n",
    "    cleaned_column = []\n",
    "    for value in column:\n",
    "        if isinstance(value, str):\n",
    "            if 'K' in value:\n",
    "                cleaned_column.append(float(re.sub(r'[^0-9.]', '', value)) * 1000)\n",
    "            elif 'M' in value:\n",
    "                cleaned_column.append(float(re.sub(r'[^0-9.]', '', value)) * 1000000)\n",
    "            elif 'B' in value:\n",
    "                cleaned_column.append(float(re.sub(r'[^0-9.]', '', value)) * 1000000000)\n",
    "            else:\n",
    "                cleaned_column.append(float(re.sub(r'[^0-9.]', '', value)))\n",
    "        else:\n",
    "            cleaned_column.append(value)\n",
    "    return cleaned_column\n",
    "\n",
    "data['VIEWS'] = clean_numeric_column(data['VIEWS'])\n",
    "data['TOTAL_NUMBER_OF_VIDEOS'] = clean_numeric_column(data['TOTAL_NUMBER_OF_VIDEOS'])\n",
    "data['SUBSCRIBERS'] = clean_numeric_column(data['SUBSCRIBERS'])"
   ]
  },
  {
   "cell_type": "code",
   "execution_count": 15,
   "metadata": {},
   "outputs": [
    {
     "data": {
      "text/html": [
       "<div>\n",
       "<style scoped>\n",
       "    .dataframe tbody tr th:only-of-type {\n",
       "        vertical-align: middle;\n",
       "    }\n",
       "\n",
       "    .dataframe tbody tr th {\n",
       "        vertical-align: top;\n",
       "    }\n",
       "\n",
       "    .dataframe thead th {\n",
       "        text-align: right;\n",
       "    }\n",
       "</style>\n",
       "<table border=\"1\" class=\"dataframe\">\n",
       "  <thead>\n",
       "    <tr style=\"text-align: right;\">\n",
       "      <th></th>\n",
       "      <th>RANK</th>\n",
       "      <th>NAME_OF_CHANNEL</th>\n",
       "      <th>TOTAL_NUMBER_OF_VIDEOS</th>\n",
       "      <th>SUBSCRIBERS</th>\n",
       "      <th>VIEWS</th>\n",
       "      <th>CATEGORY</th>\n",
       "    </tr>\n",
       "  </thead>\n",
       "  <tbody>\n",
       "    <tr>\n",
       "      <th>0</th>\n",
       "      <td>#1</td>\n",
       "      <td>MrBeast</td>\n",
       "      <td>799.0</td>\n",
       "      <td>274000000.0</td>\n",
       "      <td>5.098000e+10</td>\n",
       "      <td>Entertainment</td>\n",
       "    </tr>\n",
       "    <tr>\n",
       "      <th>1</th>\n",
       "      <td>#2</td>\n",
       "      <td>T-Series</td>\n",
       "      <td>21120.0</td>\n",
       "      <td>267000000.0</td>\n",
       "      <td>2.571600e+11</td>\n",
       "      <td>Music</td>\n",
       "    </tr>\n",
       "    <tr>\n",
       "      <th>2</th>\n",
       "      <td>#3</td>\n",
       "      <td>Cocomelon - Nursery Rhymes</td>\n",
       "      <td>1180.0</td>\n",
       "      <td>176000000.0</td>\n",
       "      <td>1.828800e+11</td>\n",
       "      <td>Kids</td>\n",
       "    </tr>\n",
       "    <tr>\n",
       "      <th>3</th>\n",
       "      <td>#4</td>\n",
       "      <td>SET India</td>\n",
       "      <td>138970.0</td>\n",
       "      <td>173000000.0</td>\n",
       "      <td>1.647100e+11</td>\n",
       "      <td>Entertainment</td>\n",
       "    </tr>\n",
       "    <tr>\n",
       "      <th>4</th>\n",
       "      <td>#5</td>\n",
       "      <td>✿ Kids Diana Show</td>\n",
       "      <td>1220.0</td>\n",
       "      <td>123000000.0</td>\n",
       "      <td>1.035000e+11</td>\n",
       "      <td>Kids</td>\n",
       "    </tr>\n",
       "    <tr>\n",
       "      <th>...</th>\n",
       "      <td>...</td>\n",
       "      <td>...</td>\n",
       "      <td>...</td>\n",
       "      <td>...</td>\n",
       "      <td>...</td>\n",
       "      <td>...</td>\n",
       "    </tr>\n",
       "    <tr>\n",
       "      <th>491</th>\n",
       "      <td>#492</td>\n",
       "      <td>SUPER SLICK SLIME SAM</td>\n",
       "      <td>1180.0</td>\n",
       "      <td>20600000.0</td>\n",
       "      <td>8.280000e+09</td>\n",
       "      <td>Education</td>\n",
       "    </tr>\n",
       "    <tr>\n",
       "      <th>492</th>\n",
       "      <td>#493</td>\n",
       "      <td>Clash of Clans</td>\n",
       "      <td>868.0</td>\n",
       "      <td>20600000.0</td>\n",
       "      <td>4.550000e+09</td>\n",
       "      <td>Kids</td>\n",
       "    </tr>\n",
       "    <tr>\n",
       "      <th>494</th>\n",
       "      <td>#495</td>\n",
       "      <td>What's Idea</td>\n",
       "      <td>205.0</td>\n",
       "      <td>20600000.0</td>\n",
       "      <td>1.910000e+09</td>\n",
       "      <td>DIY</td>\n",
       "    </tr>\n",
       "    <tr>\n",
       "      <th>495</th>\n",
       "      <td>#496</td>\n",
       "      <td>Smile Family Spanish</td>\n",
       "      <td>563.0</td>\n",
       "      <td>20500000.0</td>\n",
       "      <td>7.630000e+09</td>\n",
       "      <td>Entertainment</td>\n",
       "    </tr>\n",
       "    <tr>\n",
       "      <th>496</th>\n",
       "      <td>#497</td>\n",
       "      <td>Marvel Entertainment</td>\n",
       "      <td>8970.0</td>\n",
       "      <td>20500000.0</td>\n",
       "      <td>6.010000e+09</td>\n",
       "      <td>Entertainment</td>\n",
       "    </tr>\n",
       "  </tbody>\n",
       "</table>\n",
       "<p>485 rows × 6 columns</p>\n",
       "</div>"
      ],
      "text/plain": [
       "     RANK             NAME_OF_CHANNEL  TOTAL_NUMBER_OF_VIDEOS  SUBSCRIBERS  \\\n",
       "0      #1                     MrBeast                   799.0  274000000.0   \n",
       "1      #2                    T-Series                 21120.0  267000000.0   \n",
       "2      #3  Cocomelon - Nursery Rhymes                  1180.0  176000000.0   \n",
       "3      #4                   SET India                138970.0  173000000.0   \n",
       "4      #5           ✿ Kids Diana Show                  1220.0  123000000.0   \n",
       "..    ...                         ...                     ...          ...   \n",
       "491  #492       SUPER SLICK SLIME SAM                  1180.0   20600000.0   \n",
       "492  #493              Clash of Clans                   868.0   20600000.0   \n",
       "494  #495                 What's Idea                   205.0   20600000.0   \n",
       "495  #496        Smile Family Spanish                   563.0   20500000.0   \n",
       "496  #497        Marvel Entertainment                  8970.0   20500000.0   \n",
       "\n",
       "            VIEWS                  CATEGORY  \n",
       "0    5.098000e+10   Entertainment            \n",
       "1    2.571600e+11   Music                    \n",
       "2    1.828800e+11   Kids                     \n",
       "3    1.647100e+11   Entertainment            \n",
       "4    1.035000e+11   Kids                     \n",
       "..            ...                       ...  \n",
       "491  8.280000e+09   Education                \n",
       "492  4.550000e+09   Kids                     \n",
       "494  1.910000e+09   DIY                      \n",
       "495  7.630000e+09   Entertainment            \n",
       "496  6.010000e+09   Entertainment            \n",
       "\n",
       "[485 rows x 6 columns]"
      ]
     },
     "execution_count": 15,
     "metadata": {},
     "output_type": "execute_result"
    }
   ],
   "source": [
    "data"
   ]
  },
  {
   "cell_type": "code",
   "execution_count": 16,
   "metadata": {},
   "outputs": [
    {
     "name": "stdout",
     "output_type": "stream",
     "text": [
      "X_train shape: (485, 34)\n",
      "y_train shape: (485,)\n"
     ]
    }
   ],
   "source": [
    "# Define features and target\n",
    "numeric_features = ['VIEWS', 'TOTAL_NUMBER_OF_VIDEOS']\n",
    "categorical_features = ['CATEGORY']\n",
    "\n",
    "\n",
    "\n",
    "# Prepare data for training\n",
    "train_dicts = data[categorical_features + numeric_features].to_dict(orient='records')\n",
    "\n",
    "# Initialize DictVectorizer\n",
    "dv = DictVectorizer()\n",
    "\n",
    "# Transform categorical features into numerical representation\n",
    "X_train = dv.fit_transform(train_dicts)\n",
    "print(\"X_train shape:\", X_train.shape)\n",
    "\n",
    "# Extract target variable\n",
    "y_train = data['SUBSCRIBERS'].values\n",
    "print(\"y_train shape:\", y_train.shape)\n",
    "\n",
    "# Initialize Linear Regression model\n",
    "lr = LinearRegression()\n",
    "\n",
    "# Train the model\n",
    "lr.fit(X_train, y_train)\n",
    "\n",
    "# Predict on the training set\n",
    "y_pred = lr.predict(X_train)"
   ]
  },
  {
   "cell_type": "code",
   "execution_count": 17,
   "metadata": {},
   "outputs": [
    {
     "name": "stdout",
     "output_type": "stream",
     "text": [
      "MSE: 14801134.038355662\n"
     ]
    },
    {
     "name": "stderr",
     "output_type": "stream",
     "text": [
      "/opt/conda/envs/exp-tracking-env/lib/python3.9/site-packages/sklearn/metrics/_regression.py:492: FutureWarning: 'squared' is deprecated in version 1.4 and will be removed in 1.6. To calculate the root mean squared error, use the function'root_mean_squared_error'.\n",
      "  warnings.warn(\n"
     ]
    }
   ],
   "source": [
    "# Evaluate the model\n",
    "\n",
    "mse = mean_squared_error(y_train, y_pred, squared=False)\n",
    "print(f'MSE: {mse}')"
   ]
  },
  {
   "cell_type": "code",
   "execution_count": 18,
   "metadata": {},
   "outputs": [
    {
     "name": "stderr",
     "output_type": "stream",
     "text": [
      "/tmp/ipykernel_38624/437147669.py:1: UserWarning: \n",
      "\n",
      "`distplot` is a deprecated function and will be removed in seaborn v0.14.0.\n",
      "\n",
      "Please adapt your code to use either `displot` (a figure-level function with\n",
      "similar flexibility) or `histplot` (an axes-level function for histograms).\n",
      "\n",
      "For a guide to updating your code to use the new functions, please see\n",
      "https://gist.github.com/mwaskom/de44147ed2974457ad6372750bbe5751\n",
      "\n",
      "  sns.distplot(y_pred, label='prediction')\n",
      "/tmp/ipykernel_38624/437147669.py:2: UserWarning: \n",
      "\n",
      "`distplot` is a deprecated function and will be removed in seaborn v0.14.0.\n",
      "\n",
      "Please adapt your code to use either `displot` (a figure-level function with\n",
      "similar flexibility) or `histplot` (an axes-level function for histograms).\n",
      "\n",
      "For a guide to updating your code to use the new functions, please see\n",
      "https://gist.github.com/mwaskom/de44147ed2974457ad6372750bbe5751\n",
      "\n",
      "  sns.distplot(y_train, label='actual')\n"
     ]
    },
    {
     "data": {
      "text/plain": [
       "<matplotlib.legend.Legend at 0x75376ed11e20>"
      ]
     },
     "execution_count": 18,
     "metadata": {},
     "output_type": "execute_result"
    },
    {
     "data": {
      "image/png": "[encoded data removed]",
      "text/plain": [
       "<Figure size 640x480 with 1 Axes>"
      ]
     },
     "metadata": {},
     "output_type": "display_data"
    }
   ],
   "source": [
    "sns.distplot(y_pred, label='prediction')\n",
    "sns.distplot(y_train, label='actual')\n",
    "\n",
    "plt.legend()\n"
   ]
  }
 ],
 "metadata": {
  "kernelspec": {
   "display_name": "exp-tracking-env",
   "language": "python",
   "name": "python3"
  },
  "language_info": {
   "codemirror_mode": {
    "name": "ipython",
    "version": 3
   },
   "file_extension": ".py",
   "mimetype": "text/x-python",
   "name": "python",
   "nbconvert_exporter": "python",
   "pygments_lexer": "ipython3",
   "version": "3.9.19"
  }
 },
 "nbformat": 4,
 "nbformat_minor": 2
}
