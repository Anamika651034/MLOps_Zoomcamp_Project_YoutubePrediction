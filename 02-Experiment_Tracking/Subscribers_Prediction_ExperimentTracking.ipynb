{
 "cells": [
  {
   "cell_type": "code",
   "execution_count": 20,
   "metadata": {},
   "outputs": [
    {
     "data": {
      "text/plain": [
       "<Experiment: artifact_location='/workspaces/MLOps_Zoomcamp_Project_YoutubePrediction/02-Experiment_Tracking/mlruns/1', creation_time=1720106073958, experiment_id='1', last_update_time=1720106073958, lifecycle_stage='active', name='youtube-prediction-experiment', tags={}>"
      ]
     },
     "execution_count": 20,
     "metadata": {},
     "output_type": "execute_result"
    }
   ],
   "source": [
    "#ingest data\n",
    "import pandas as pd\n",
    "import pickle\n",
    "from sklearn.linear_model import Lasso\n",
    "\n",
    "\n",
    "\n",
    "#For Evaluating the model\n",
    "from sklearn.metrics import mean_absolute_error, mean_squared_error\n",
    "\n",
    "#Algorithm used - LinearRegression\n",
    "from sklearn.linear_model import LinearRegression\n",
    "\n",
    "#To convert million , billion string into float\n",
    "import re\n",
    "\n",
    "#For plotting\n",
    "import matplotlib.pyplot as plt\n",
    "\n",
    "from sklearn.feature_extraction import DictVectorizer\n",
    "\n",
    "import seaborn as sns\n",
    "import matplotlib.pyplot as plt\n",
    "\n",
    "import mlflow\n",
    "mlflow.set_tracking_uri(\"sqlite:///mlflow.db\")\n",
    "mlflow.set_experiment(\"youtube-prediction-experiment\")"
   ]
  },
  {
   "cell_type": "code",
   "execution_count": 21,
   "metadata": {},
   "outputs": [],
   "source": [
    "# Load the data\n",
    "def read_dataframe(filename):\n",
    "    data = pd.read_csv(filename)\n",
    "\n",
    "    # Drop rows with NaN values\n",
    "    data.dropna(inplace=True)\n",
    "    \n",
    "    data['VIEWS'] = clean_numeric_column(data['VIEWS'])\n",
    "    data['TOTAL_NUMBER_OF_VIDEOS'] = clean_numeric_column(data['TOTAL_NUMBER_OF_VIDEOS'])\n",
    "    data['SUBSCRIBERS'] = clean_numeric_column(data['SUBSCRIBERS'])\n",
    "    \n",
    "    print(data)\n",
    "    \n",
    "    \n",
    "    return data\n",
    "\n",
    "\n",
    "    \n",
    "def clean_numeric_column(column):\n",
    "    cleaned_column = []\n",
    "    for value in column:\n",
    "        if isinstance(value, str):\n",
    "            if 'K' in value:\n",
    "                cleaned_column.append(float(re.sub(r'[^0-9.]', '', value)) * 1000)\n",
    "            elif 'M' in value:\n",
    "                cleaned_column.append(float(re.sub(r'[^0-9.]', '', value)) * 1000000)\n",
    "            elif 'B' in value:\n",
    "                cleaned_column.append(float(re.sub(r'[^0-9.]', '', value)) * 1000000000)\n",
    "            else:\n",
    "                cleaned_column.append(float(re.sub(r'[^0-9.]', '', value)))\n",
    "        else:\n",
    "            cleaned_column.append(value)\n",
    "    return cleaned_column"
   ]
  },
  {
   "cell_type": "code",
   "execution_count": 22,
   "metadata": {},
   "outputs": [
    {
     "name": "stdout",
     "output_type": "stream",
     "text": [
      "     RANK             NAME_OF_CHANNEL  TOTAL_NUMBER_OF_VIDEOS  SUBSCRIBERS  \\\n",
      "0      #1                     MrBeast                   799.0  274000000.0   \n",
      "1      #2                    T-Series                 21120.0  267000000.0   \n",
      "2      #3  Cocomelon - Nursery Rhymes                  1180.0  176000000.0   \n",
      "3      #4                   SET India                138970.0  173000000.0   \n",
      "4      #5           ✿ Kids Diana Show                  1220.0  123000000.0   \n",
      "..    ...                         ...                     ...          ...   \n",
      "491  #492       SUPER SLICK SLIME SAM                  1180.0   20600000.0   \n",
      "492  #493              Clash of Clans                   868.0   20600000.0   \n",
      "494  #495                 What's Idea                   205.0   20600000.0   \n",
      "495  #496        Smile Family Spanish                   563.0   20500000.0   \n",
      "496  #497        Marvel Entertainment                  8970.0   20500000.0   \n",
      "\n",
      "            VIEWS                  CATEGORY  \n",
      "0    5.098000e+10   Entertainment            \n",
      "1    2.571600e+11   Music                    \n",
      "2    1.828800e+11   Kids                     \n",
      "3    1.647100e+11   Entertainment            \n",
      "4    1.035000e+11   Kids                     \n",
      "..            ...                       ...  \n",
      "491  8.280000e+09   Education                \n",
      "492  4.550000e+09   Kids                     \n",
      "494  1.910000e+09   DIY                      \n",
      "495  7.630000e+09   Entertainment            \n",
      "496  6.010000e+09   Entertainment            \n",
      "\n",
      "[485 rows x 6 columns]\n",
      "     RANK             NAME_OF_CHANNEL  TOTAL_NUMBER_OF_VIDEOS  SUBSCRIBERS  \\\n",
      "0      #1                     MrBeast                   799.0  274000000.0   \n",
      "1      #2                    T-Series                 21120.0  267000000.0   \n",
      "2      #3  Cocomelon - Nursery Rhymes                  1180.0  176000000.0   \n",
      "3      #4                   SET India                138970.0  173000000.0   \n",
      "4      #5           ✿ Kids Diana Show                  1220.0  123000000.0   \n",
      "..    ...                         ...                     ...          ...   \n",
      "491  #492       SUPER SLICK SLIME SAM                  1180.0   20600000.0   \n",
      "492  #493              Clash of Clans                   868.0   20600000.0   \n",
      "494  #495                 What's Idea                   205.0   20600000.0   \n",
      "495  #496        Smile Family Spanish                   563.0   20500000.0   \n",
      "496  #497        Marvel Entertainment                  8970.0   20500000.0   \n",
      "\n",
      "            VIEWS                  CATEGORY  \n",
      "0    5.098000e+10   Entertainment            \n",
      "1    2.571600e+11   Music                    \n",
      "2    1.828800e+11   Kids                     \n",
      "3    1.647100e+11   Entertainment            \n",
      "4    1.035000e+11   Kids                     \n",
      "..            ...                       ...  \n",
      "491  8.280000e+09   Education                \n",
      "492  4.550000e+09   Kids                     \n",
      "494  1.910000e+09   DIY                      \n",
      "495  7.630000e+09   Entertainment            \n",
      "496  6.010000e+09   Entertainment            \n",
      "\n",
      "[485 rows x 6 columns]\n"
     ]
    }
   ],
   "source": [
    "df_train = read_dataframe('/workspaces/MLOps_Zoomcamp_Project_YoutubePrediction/dataset/youtube_test.csv')\n",
    "df_val = read_dataframe('/workspaces/MLOps_Zoomcamp_Project_YoutubePrediction/dataset/youtube_train.csv')"
   ]
  },
  {
   "cell_type": "code",
   "execution_count": 23,
   "metadata": {},
   "outputs": [
    {
     "name": "stdout",
     "output_type": "stream",
     "text": [
      "485\n",
      "485\n"
     ]
    }
   ],
   "source": [
    "print(len(df_train))\n",
    "print(len(df_val))"
   ]
  },
  {
   "cell_type": "code",
   "execution_count": 24,
   "metadata": {},
   "outputs": [
    {
     "name": "stdout",
     "output_type": "stream",
     "text": [
      "X_train shape: (485, 34)\n",
      "y_train shape: (485,)\n"
     ]
    },
    {
     "name": "stderr",
     "output_type": "stream",
     "text": [
      "/opt/conda/envs/exp-tracking-env/lib/python3.9/site-packages/sklearn/metrics/_regression.py:492: FutureWarning: 'squared' is deprecated in version 1.4 and will be removed in 1.6. To calculate the root mean squared error, use the function'root_mean_squared_error'.\n",
      "  warnings.warn(\n"
     ]
    },
    {
     "data": {
      "text/plain": [
       "14801134.038355662"
      ]
     },
     "execution_count": 24,
     "metadata": {},
     "output_type": "execute_result"
    }
   ],
   "source": [
    "# Define features and target\n",
    "numeric_features = ['VIEWS', 'TOTAL_NUMBER_OF_VIDEOS']\n",
    "categorical_features = ['CATEGORY']\n",
    "\n",
    "# Prepare data for training\n",
    "train_dicts = df_train[categorical_features + numeric_features].to_dict(orient='records')\n",
    "\n",
    "# Prepare data for training\n",
    "val_dicts = df_val[categorical_features + numeric_features].to_dict(orient='records')\n",
    "\n",
    "\n",
    "\n",
    "# Initialize DictVectorizer\n",
    "dv = DictVectorizer()\n",
    "\n",
    "\n",
    "X_train = dv.fit_transform(train_dicts)\n",
    "X_val = dv.transform(val_dicts)\n",
    "\n",
    "print(\"X_train shape:\", X_train.shape)\n",
    "\n",
    "# Extract target variable\n",
    "y_train = df_train['SUBSCRIBERS'].values\n",
    "y_val = df_val['SUBSCRIBERS'].values\n",
    "print(\"y_train shape:\", y_train.shape)\n",
    "\n",
    "lr = LinearRegression()\n",
    "lr.fit(X_train, y_train)\n",
    "\n",
    "y_pred = lr.predict(X_val)\n",
    "\n",
    "mean_squared_error(y_val, y_pred, squared=False)"
   ]
  },
  {
   "cell_type": "code",
   "execution_count": 25,
   "metadata": {},
   "outputs": [
    {
     "name": "stdout",
     "output_type": "stream",
     "text": [
      "Predictions saved to 'youtube_channels_with_predictions.csv'\n"
     ]
    }
   ],
   "source": [
    "# Predict the number of subscribers for each channel in the dataset\n",
    "df_val['Predicted Subscribers'] = lr.predict(X_val)\n",
    "\n",
    "# Save the predictions to a new CSV file\n",
    "df_val.to_csv('/workspaces/MLOps_Zoomcamp_Project_YoutubePrediction/resultset/Result_youtube_channels_with_predictions.csv', index=False)\n",
    "print(\"Predictions saved to 'youtube_channels_with_predictions.csv'\")"
   ]
  },
  {
   "cell_type": "code",
   "execution_count": 26,
   "metadata": {},
   "outputs": [
    {
     "name": "stderr",
     "output_type": "stream",
     "text": [
      "/opt/conda/envs/exp-tracking-env/lib/python3.9/site-packages/sklearn/linear_model/_coordinate_descent.py:658: ConvergenceWarning: Objective did not converge. You might want to increase the number of iterations. Duality gap: 5.033255250603581e+16, tolerance: 26926150350515.47\n",
      "  model = cd_fast.sparse_enet_coordinate_descent(\n",
      "/opt/conda/envs/exp-tracking-env/lib/python3.9/site-packages/sklearn/metrics/_regression.py:492: FutureWarning: 'squared' is deprecated in version 1.4 and will be removed in 1.6. To calculate the root mean squared error, use the function'root_mean_squared_error'.\n",
      "  warnings.warn(\n"
     ]
    }
   ],
   "source": [
    "with mlflow.start_run():\n",
    "\n",
    "    mlflow.set_tag(\"developer\", \"Anamika\")\n",
    "\n",
    "    mlflow.log_param(\"train-data-path\", \"/workspaces/mlops_zoomcamp_project/dataset/youtube_train.csv\")\n",
    "    mlflow.log_param(\"valid-data-path\", \"/workspaces/mlops_zoomcamp_project/dataset/youtube_test.csv\")\n",
    "    \n",
    "\n",
    "    alpha = 0.2\n",
    "    mlflow.log_param(\"alpha\", alpha)\n",
    "    lr = Lasso(alpha)\n",
    "    lr.fit(X_train, y_train)\n",
    "\n",
    "    y_pred = lr.predict(X_val)\n",
    "    rmse = mean_squared_error(y_val, y_pred, squared=False)\n",
    "    mlflow.log_metric(\"rmse\", rmse)\n",
    "\n",
    "    mlflow.log_artifact(local_path=\"/workspaces/MLOps_Zoomcamp_Project_YoutubePrediction/02-Experiment_Tracking/models\", artifact_path=\"models_pickle\")"
   ]
  },
  {
   "cell_type": "code",
   "execution_count": 27,
   "metadata": {},
   "outputs": [],
   "source": [
    "import xgboost as xgb\n",
    "from hyperopt import fmin, tpe, hp, STATUS_OK, Trials\n",
    "from hyperopt.pyll import scope"
   ]
  },
  {
   "cell_type": "code",
   "execution_count": 28,
   "metadata": {},
   "outputs": [],
   "source": [
    "train = xgb.DMatrix(X_train, label=y_train)\n",
    "valid = xgb.DMatrix(X_val, label=y_val)"
   ]
  },
  {
   "cell_type": "code",
   "execution_count": 29,
   "metadata": {},
   "outputs": [],
   "source": [
    "def objective(params):\n",
    "    with mlflow.start_run():\n",
    "        mlflow.set_tag(\"model\", \"xgboost\")\n",
    "        mlflow.log_params(params)\n",
    "        booster = xgb.train(\n",
    "            params=params,\n",
    "            dtrain=train,\n",
    "            num_boost_round=10,\n",
    "            evals=[(valid, 'validation')],\n",
    "            early_stopping_rounds=2\n",
    "        )\n",
    "        y_pred = booster.predict(valid)\n",
    "        rmse = mean_squared_error(y_val, y_pred, squared=False)\n",
    "        mlflow.log_metric(\"rmse\", rmse)\n",
    "\n",
    "    return {'loss': rmse, 'status': STATUS_OK}"
   ]
  },
  {
   "cell_type": "code",
   "execution_count": 30,
   "metadata": {},
   "outputs": [
    {
     "name": "stdout",
     "output_type": "stream",
     "text": [
      "[0]\tvalidation-rmse:22583269.44678                    \n",
      "[1]\tvalidation-rmse:21670441.98671                    \n",
      "[2]\tvalidation-rmse:20816503.86579                    \n",
      "[3]\tvalidation-rmse:20021491.35213                    \n",
      "[4]\tvalidation-rmse:19277488.75949                    \n",
      "[5]\tvalidation-rmse:18580266.30995                    \n",
      "[6]\tvalidation-rmse:17957233.74589                    \n",
      "[7]\tvalidation-rmse:17376030.54924                    \n",
      "[8]\tvalidation-rmse:16816065.99302                    \n",
      "[9]\tvalidation-rmse:16297621.89738                    \n",
      " 10%|█         | 1/10 [00:00<00:02,  3.33trial/s, best loss: 16297622.00141467]"
     ]
    },
    {
     "name": "stderr",
     "output_type": "stream",
     "text": [
      "/opt/conda/envs/exp-tracking-env/lib/python3.9/site-packages/xgboost/core.py:158: UserWarning: [15:17:49] WARNING: /workspace/src/objective/regression_obj.cu:227: reg:linear is now deprecated in favor of reg:squarederror.\n",
      "  warnings.warn(smsg, UserWarning)\n",
      "\n",
      "/opt/conda/envs/exp-tracking-env/lib/python3.9/site-packages/sklearn/metrics/_regression.py:492: FutureWarning: 'squared' is deprecated in version 1.4 and will be removed in 1.6. To calculate the root mean squared error, use the function'root_mean_squared_error'.\n",
      "  warnings.warn(\n",
      "\n"
     ]
    },
    {
     "name": "stdout",
     "output_type": "stream",
     "text": [
      "[0]\tvalidation-rmse:19678995.70645                                             \n",
      "[1]\tvalidation-rmse:17938257.23294                                             \n",
      "[2]\tvalidation-rmse:17199096.49183                                             \n",
      "[3]\tvalidation-rmse:16870050.31967                                             \n",
      "[4]\tvalidation-rmse:16329171.02270                                             \n",
      "[5]\tvalidation-rmse:16152282.54916                                             \n",
      "[6]\tvalidation-rmse:15917857.46693                                             \n",
      "[7]\tvalidation-rmse:15813758.78671                                             \n",
      "[8]\tvalidation-rmse:15534753.33917                                             \n",
      "[9]\tvalidation-rmse:15417243.01646                                             \n",
      " 20%|██        | 2/10 [00:00<00:02,  3.71trial/s, best loss: 15417243.024033654]"
     ]
    },
    {
     "name": "stderr",
     "output_type": "stream",
     "text": [
      "/opt/conda/envs/exp-tracking-env/lib/python3.9/site-packages/xgboost/core.py:158: UserWarning: [15:17:50] WARNING: /workspace/src/objective/regression_obj.cu:227: reg:linear is now deprecated in favor of reg:squarederror.\n",
      "  warnings.warn(smsg, UserWarning)\n",
      "\n",
      "/opt/conda/envs/exp-tracking-env/lib/python3.9/site-packages/sklearn/metrics/_regression.py:492: FutureWarning: 'squared' is deprecated in version 1.4 and will be removed in 1.6. To calculate the root mean squared error, use the function'root_mean_squared_error'.\n",
      "  warnings.warn(\n",
      "\n"
     ]
    },
    {
     "name": "stdout",
     "output_type": "stream",
     "text": [
      "[0]\tvalidation-rmse:16849837.24920                                              \n",
      "[1]\tvalidation-rmse:13785089.12193                                              \n",
      "[2]\tvalidation-rmse:12358098.32478                                              \n",
      "[3]\tvalidation-rmse:11224173.03821                                              \n",
      "[4]\tvalidation-rmse:10176278.98660                                              \n",
      "[5]\tvalidation-rmse:9565977.18208                                               \n",
      "[6]\tvalidation-rmse:8906429.97742                                               \n",
      "[7]\tvalidation-rmse:7966850.28821                                               \n",
      "[8]\tvalidation-rmse:7650846.47047                                               \n",
      "[9]\tvalidation-rmse:7263744.07296                                               \n",
      " 30%|███       | 3/10 [00:00<00:01,  3.55trial/s, best loss: 7263744.061260423] "
     ]
    },
    {
     "name": "stderr",
     "output_type": "stream",
     "text": [
      "/opt/conda/envs/exp-tracking-env/lib/python3.9/site-packages/xgboost/core.py:158: UserWarning: [15:17:50] WARNING: /workspace/src/objective/regression_obj.cu:227: reg:linear is now deprecated in favor of reg:squarederror.\n",
      "  warnings.warn(smsg, UserWarning)\n",
      "\n",
      "/opt/conda/envs/exp-tracking-env/lib/python3.9/site-packages/sklearn/metrics/_regression.py:492: FutureWarning: 'squared' is deprecated in version 1.4 and will be removed in 1.6. To calculate the root mean squared error, use the function'root_mean_squared_error'.\n",
      "  warnings.warn(\n",
      "\n"
     ]
    },
    {
     "name": "stdout",
     "output_type": "stream",
     "text": [
      "[0]\tvalidation-rmse:20242494.13942                                             \n",
      "[1]\tvalidation-rmse:17599759.38247                                             \n",
      "[2]\tvalidation-rmse:15493563.89934                                             \n",
      "[3]\tvalidation-rmse:13845162.27307                                             \n",
      "[4]\tvalidation-rmse:12617526.98939                                             \n",
      "[5]\tvalidation-rmse:11627133.47891                                             \n",
      "[6]\tvalidation-rmse:10682388.40008                                             \n",
      "[7]\tvalidation-rmse:10052266.57026                                             \n",
      "[8]\tvalidation-rmse:9365450.14711                                              \n",
      "[9]\tvalidation-rmse:8774933.92690                                              \n",
      " 40%|████      | 4/10 [00:01<00:01,  3.48trial/s, best loss: 7263744.061260423]"
     ]
    },
    {
     "name": "stderr",
     "output_type": "stream",
     "text": [
      "/opt/conda/envs/exp-tracking-env/lib/python3.9/site-packages/xgboost/core.py:158: UserWarning: [15:17:50] WARNING: /workspace/src/objective/regression_obj.cu:227: reg:linear is now deprecated in favor of reg:squarederror.\n",
      "  warnings.warn(smsg, UserWarning)\n",
      "\n",
      "/opt/conda/envs/exp-tracking-env/lib/python3.9/site-packages/sklearn/metrics/_regression.py:492: FutureWarning: 'squared' is deprecated in version 1.4 and will be removed in 1.6. To calculate the root mean squared error, use the function'root_mean_squared_error'.\n",
      "  warnings.warn(\n",
      "\n"
     ]
    },
    {
     "name": "stdout",
     "output_type": "stream",
     "text": [
      "[0]\tvalidation-rmse:19850287.88182                                             \n",
      "[1]\tvalidation-rmse:16736509.98373                                             \n",
      "[2]\tvalidation-rmse:14121815.18593                                             \n",
      "[3]\tvalidation-rmse:11928132.95500                                             \n",
      "[4]\tvalidation-rmse:10094230.39877                                             \n",
      "[5]\tvalidation-rmse:8514323.90337                                              \n",
      "[6]\tvalidation-rmse:7193318.48688                                              \n",
      "[7]\tvalidation-rmse:6114953.60299                                              \n",
      "[8]\tvalidation-rmse:5178410.34294                                              \n",
      "[9]\tvalidation-rmse:4408407.61470                                              \n",
      " 50%|█████     | 5/10 [00:01<00:01,  3.46trial/s, best loss: 4408407.619361778]"
     ]
    },
    {
     "name": "stderr",
     "output_type": "stream",
     "text": [
      "/opt/conda/envs/exp-tracking-env/lib/python3.9/site-packages/xgboost/core.py:158: UserWarning: [15:17:51] WARNING: /workspace/src/objective/regression_obj.cu:227: reg:linear is now deprecated in favor of reg:squarederror.\n",
      "  warnings.warn(smsg, UserWarning)\n",
      "\n",
      "/opt/conda/envs/exp-tracking-env/lib/python3.9/site-packages/sklearn/metrics/_regression.py:492: FutureWarning: 'squared' is deprecated in version 1.4 and will be removed in 1.6. To calculate the root mean squared error, use the function'root_mean_squared_error'.\n",
      "  warnings.warn(\n",
      "\n"
     ]
    },
    {
     "name": "stdout",
     "output_type": "stream",
     "text": [
      "[0]\tvalidation-rmse:21556798.10853                                             \n",
      "[1]\tvalidation-rmse:19984538.07304                                             \n",
      "[2]\tvalidation-rmse:18712255.84317                                             \n",
      "[3]\tvalidation-rmse:17625894.14955                                             \n",
      "[4]\tvalidation-rmse:16804083.11723                                             \n",
      "[5]\tvalidation-rmse:16127710.56046                                             \n",
      "[6]\tvalidation-rmse:15516561.59494                                             \n",
      "[7]\tvalidation-rmse:15043318.85565                                             \n",
      "[8]\tvalidation-rmse:14675728.34788                                             \n",
      "[9]\tvalidation-rmse:14298603.94242                                             \n",
      " 50%|█████     | 5/10 [00:01<00:01,  3.46trial/s, best loss: 4408407.619361778]"
     ]
    },
    {
     "name": "stderr",
     "output_type": "stream",
     "text": [
      "/opt/conda/envs/exp-tracking-env/lib/python3.9/site-packages/xgboost/core.py:158: UserWarning: [15:17:51] WARNING: /workspace/src/objective/regression_obj.cu:227: reg:linear is now deprecated in favor of reg:squarederror.\n",
      "  warnings.warn(smsg, UserWarning)\n",
      "\n",
      "/opt/conda/envs/exp-tracking-env/lib/python3.9/site-packages/sklearn/metrics/_regression.py:492: FutureWarning: 'squared' is deprecated in version 1.4 and will be removed in 1.6. To calculate the root mean squared error, use the function'root_mean_squared_error'.\n",
      "  warnings.warn(\n",
      "\n"
     ]
    },
    {
     "name": "stdout",
     "output_type": "stream",
     "text": [
      "[0]\tvalidation-rmse:22593758.03123                                             \n",
      "[1]\tvalidation-rmse:21701682.17888                                             \n",
      "[2]\tvalidation-rmse:20873034.92000                                             \n",
      "[3]\tvalidation-rmse:20108232.61298                                             \n",
      "[4]\tvalidation-rmse:19403091.84499                                             \n",
      "[5]\tvalidation-rmse:18756851.05050                                             \n",
      "[6]\tvalidation-rmse:18128595.08208                                             \n",
      "[7]\tvalidation-rmse:17571982.49978                                             \n",
      "[8]\tvalidation-rmse:17050208.55406                                             \n",
      "[9]\tvalidation-rmse:16555955.45929                                             \n",
      " 70%|███████   | 7/10 [00:02<00:00,  3.45trial/s, best loss: 4408407.619361778]"
     ]
    },
    {
     "name": "stderr",
     "output_type": "stream",
     "text": [
      "/opt/conda/envs/exp-tracking-env/lib/python3.9/site-packages/xgboost/core.py:158: UserWarning: [15:17:51] WARNING: /workspace/src/objective/regression_obj.cu:227: reg:linear is now deprecated in favor of reg:squarederror.\n",
      "  warnings.warn(smsg, UserWarning)\n",
      "\n",
      "/opt/conda/envs/exp-tracking-env/lib/python3.9/site-packages/sklearn/metrics/_regression.py:492: FutureWarning: 'squared' is deprecated in version 1.4 and will be removed in 1.6. To calculate the root mean squared error, use the function'root_mean_squared_error'.\n",
      "  warnings.warn(\n",
      "\n"
     ]
    },
    {
     "name": "stdout",
     "output_type": "stream",
     "text": [
      "[0]\tvalidation-rmse:19307652.57148                                             \n",
      "[1]\tvalidation-rmse:15821386.45617                                             \n",
      "[2]\tvalidation-rmse:12964712.93821                                             \n",
      "[3]\tvalidation-rmse:10623941.28415                                             \n",
      "[4]\tvalidation-rmse:8705878.86863                                              \n",
      "[5]\tvalidation-rmse:7134185.84402                                              \n",
      "[6]\tvalidation-rmse:5846327.05548                                              \n",
      "[7]\tvalidation-rmse:4790944.74545                                              \n",
      "[8]\tvalidation-rmse:3926080.45539                                              \n",
      "[9]\tvalidation-rmse:3217344.32064                                              \n",
      " 70%|███████   | 7/10 [00:02<00:00,  3.45trial/s, best loss: 4408407.619361778]"
     ]
    },
    {
     "name": "stderr",
     "output_type": "stream",
     "text": [
      "/opt/conda/envs/exp-tracking-env/lib/python3.9/site-packages/xgboost/core.py:158: UserWarning: [15:17:51] WARNING: /workspace/src/objective/regression_obj.cu:227: reg:linear is now deprecated in favor of reg:squarederror.\n",
      "  warnings.warn(smsg, UserWarning)\n",
      "\n",
      "/opt/conda/envs/exp-tracking-env/lib/python3.9/site-packages/sklearn/metrics/_regression.py:492: FutureWarning: 'squared' is deprecated in version 1.4 and will be removed in 1.6. To calculate the root mean squared error, use the function'root_mean_squared_error'.\n",
      "  warnings.warn(\n",
      "\n"
     ]
    },
    {
     "name": "stdout",
     "output_type": "stream",
     "text": [
      "[0]\tvalidation-rmse:20912261.79270                                             \n",
      "[1]\tvalidation-rmse:18560356.21767                                             \n",
      "[2]\tvalidation-rmse:16472995.85715                                             \n",
      "[3]\tvalidation-rmse:14620425.81990                                             \n",
      "[4]\tvalidation-rmse:12976232.12858                                             \n",
      "[5]\tvalidation-rmse:11516984.84136                                             \n",
      "[6]\tvalidation-rmse:10221875.29119                                             \n",
      "[7]\tvalidation-rmse:9072428.18126                                              \n",
      "[8]\tvalidation-rmse:8052267.66187                                              \n",
      "[9]\tvalidation-rmse:7146854.28623                                              \n",
      " 90%|█████████ | 9/10 [00:02<00:00,  3.36trial/s, best loss: 3217344.315256135]"
     ]
    },
    {
     "name": "stderr",
     "output_type": "stream",
     "text": [
      "/opt/conda/envs/exp-tracking-env/lib/python3.9/site-packages/xgboost/core.py:158: UserWarning: [15:17:52] WARNING: /workspace/src/objective/regression_obj.cu:227: reg:linear is now deprecated in favor of reg:squarederror.\n",
      "  warnings.warn(smsg, UserWarning)\n",
      "\n",
      "/opt/conda/envs/exp-tracking-env/lib/python3.9/site-packages/sklearn/metrics/_regression.py:492: FutureWarning: 'squared' is deprecated in version 1.4 and will be removed in 1.6. To calculate the root mean squared error, use the function'root_mean_squared_error'.\n",
      "  warnings.warn(\n",
      "\n"
     ]
    },
    {
     "name": "stdout",
     "output_type": "stream",
     "text": [
      "[0]\tvalidation-rmse:19247631.84008                                             \n",
      "[1]\tvalidation-rmse:16889550.08118                                             \n",
      "[2]\tvalidation-rmse:15265848.50758                                             \n",
      "[3]\tvalidation-rmse:14248015.97548                                             \n",
      "[4]\tvalidation-rmse:13657937.61243                                             \n",
      "[5]\tvalidation-rmse:13121690.62632                                             \n",
      "[6]\tvalidation-rmse:12757686.29972                                             \n",
      "[7]\tvalidation-rmse:12486065.47131                                             \n",
      "[8]\tvalidation-rmse:12263574.86082                                             \n",
      "[9]\tvalidation-rmse:12027510.86892                                             \n",
      "100%|██████████| 10/10 [00:02<00:00,  3.44trial/s, best loss: 3217344.315256135]\n"
     ]
    },
    {
     "name": "stderr",
     "output_type": "stream",
     "text": [
      "/opt/conda/envs/exp-tracking-env/lib/python3.9/site-packages/xgboost/core.py:158: UserWarning: [15:17:52] WARNING: /workspace/src/objective/regression_obj.cu:227: reg:linear is now deprecated in favor of reg:squarederror.\n",
      "  warnings.warn(smsg, UserWarning)\n",
      "\n",
      "/opt/conda/envs/exp-tracking-env/lib/python3.9/site-packages/sklearn/metrics/_regression.py:492: FutureWarning: 'squared' is deprecated in version 1.4 and will be removed in 1.6. To calculate the root mean squared error, use the function'root_mean_squared_error'.\n",
      "  warnings.warn(\n",
      "\n"
     ]
    }
   ],
   "source": [
    "search_space = {\n",
    "    'max_depth': scope.int(hp.quniform('max_depth', 4, 100, 1)),\n",
    "    'learning_rate': hp.loguniform('learning_rate', -3, 0),\n",
    "    'reg_alpha': hp.loguniform('reg_alpha', -5, -1),\n",
    "    'reg_lambda': hp.loguniform('reg_lambda', -6, -1),\n",
    "    'min_child_weight': hp.loguniform('min_child_weight', -1, 3),\n",
    "    'objective': 'reg:linear',\n",
    "    'seed': 42\n",
    "}\n",
    "\n",
    "best_result = fmin(\n",
    "    fn=objective,\n",
    "    space=search_space,\n",
    "    algo=tpe.suggest,\n",
    "    max_evals=10,\n",
    "    trials=Trials()\n",
    ")"
   ]
  }
 ],
 "metadata": {
  "kernelspec": {
   "display_name": "exp-tracking-env",
   "language": "python",
   "name": "python3"
  },
  "language_info": {
   "codemirror_mode": {
    "name": "ipython",
    "version": 3
   },
   "file_extension": ".py",
   "mimetype": "text/x-python",
   "name": "python",
   "nbconvert_exporter": "python",
   "pygments_lexer": "ipython3",
   "version": "3.9.19"
  }
 },
 "nbformat": 4,
 "nbformat_minor": 2
}
