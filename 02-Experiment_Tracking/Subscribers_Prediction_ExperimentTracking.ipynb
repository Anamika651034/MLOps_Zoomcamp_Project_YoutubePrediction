{
 "cells": [
  {
   "cell_type": "code",
   "execution_count": null,
   "metadata": {},
   "outputs": [],
   "source": [
    "#ingest data\n",
    "import pandas as pd\n",
    "import pickle\n",
    "from sklearn.linear_model import Lasso\n",
    "\n",
    "\n",
    "\n",
    "#For Evaluating the model\n",
    "from sklearn.metrics import mean_absolute_error, mean_squared_error\n",
    "\n",
    "#Algorithm used - LinearRegression\n",
    "from sklearn.linear_model import LinearRegression\n",
    "\n",
    "#To convert million , billion string into float\n",
    "import re\n",
    "\n",
    "#For plotting\n",
    "import matplotlib.pyplot as plt\n",
    "\n",
    "from sklearn.feature_extraction import DictVectorizer\n",
    "\n",
    "import seaborn as sns\n",
    "import matplotlib.pyplot as plt\n",
    "\n",
    "import mlflow\n",
    "mlflow.set_tracking_uri(\"sqlite:///mlflow.db\")\n",
    "mlflow.set_experiment(\"youtube-prediction-experiment\")"
   ]
  },
  {
   "cell_type": "code",
   "execution_count": null,
   "metadata": {},
   "outputs": [],
   "source": [
    "# Load the data\n",
    "def read_dataframe(filename):\n",
    "    data = pd.read_csv(filename)\n",
    "\n",
    "    # Drop rows with NaN values\n",
    "    data.dropna(inplace=True)\n",
    "    \n",
    "    data['VIEWS'] = clean_numeric_column(data['VIEWS'])\n",
    "    data['TOTAL_NUMBER_OF_VIDEOS'] = clean_numeric_column(data['TOTAL_NUMBER_OF_VIDEOS'])\n",
    "    data['SUBSCRIBERS'] = clean_numeric_column(data['SUBSCRIBERS'])\n",
    "    \n",
    "    print(data)\n",
    "    \n",
    "    \n",
    "    return data\n",
    "\n",
    "\n",
    "    \n",
    "def clean_numeric_column(column):\n",
    "    cleaned_column = []\n",
    "    for value in column:\n",
    "        if isinstance(value, str):\n",
    "            if 'K' in value:\n",
    "                cleaned_column.append(float(re.sub(r'[^0-9.]', '', value)) * 1000)\n",
    "            elif 'M' in value:\n",
    "                cleaned_column.append(float(re.sub(r'[^0-9.]', '', value)) * 1000000)\n",
    "            elif 'B' in value:\n",
    "                cleaned_column.append(float(re.sub(r'[^0-9.]', '', value)) * 1000000000)\n",
    "            else:\n",
    "                cleaned_column.append(float(re.sub(r'[^0-9.]', '', value)))\n",
    "        else:\n",
    "            cleaned_column.append(value)\n",
    "    return cleaned_column"
   ]
  },
  {
   "cell_type": "code",
   "execution_count": null,
   "metadata": {},
   "outputs": [],
   "source": [
    "df_train = read_dataframe('/workspaces/mlops_zoomcamp_project/dataset/youtube_test.csv')\n",
    "df_val = read_dataframe('/workspaces/mlops_zoomcamp_project/dataset/youtube_train.csv')"
   ]
  },
  {
   "cell_type": "code",
   "execution_count": null,
   "metadata": {},
   "outputs": [],
   "source": [
    "print(len(df_train))\n",
    "print(len(df_val))"
   ]
  },
  {
   "cell_type": "code",
   "execution_count": null,
   "metadata": {},
   "outputs": [],
   "source": [
    "# Define features and target\n",
    "numeric_features = ['VIEWS', 'TOTAL_NUMBER_OF_VIDEOS']\n",
    "categorical_features = ['CATEGORY']\n",
    "\n",
    "# Prepare data for training\n",
    "train_dicts = df_train[categorical_features + numeric_features].to_dict(orient='records')\n",
    "\n",
    "# Prepare data for training\n",
    "val_dicts = df_val[categorical_features + numeric_features].to_dict(orient='records')\n",
    "\n",
    "\n",
    "\n",
    "# Initialize DictVectorizer\n",
    "dv = DictVectorizer()\n",
    "\n",
    "\n",
    "X_train = dv.fit_transform(train_dicts)\n",
    "X_val = dv.transform(val_dicts)\n",
    "\n",
    "print(\"X_train shape:\", X_train.shape)\n",
    "\n",
    "# Extract target variable\n",
    "y_train = df_train['SUBSCRIBERS'].values\n",
    "y_val = df_val['SUBSCRIBERS'].values\n",
    "print(\"y_train shape:\", y_train.shape)\n",
    "\n",
    "lr = LinearRegression()\n",
    "lr.fit(X_train, y_train)\n",
    "\n",
    "y_pred = lr.predict(X_val)\n",
    "\n",
    "mean_squared_error(y_val, y_pred, squared=False)"
   ]
  },
  {
   "cell_type": "code",
   "execution_count": null,
   "metadata": {},
   "outputs": [],
   "source": [
    "# Predict the number of subscribers for each channel in the dataset\n",
    "df_val['Predicted Subscribers'] = lr.predict(X_val)\n",
    "\n",
    "# Save the predictions to a new CSV file\n",
    "df_val.to_csv('/workspaces/mlops_zoomcamp_project/dataset/Result_youtube_channels_with_predictions.csv', index=False)\n",
    "print(\"Predictions saved to 'youtube_channels_with_predictions.csv'\")"
   ]
  },
  {
   "cell_type": "code",
   "execution_count": null,
   "metadata": {},
   "outputs": [],
   "source": [
    "with mlflow.start_run():\n",
    "\n",
    "    mlflow.set_tag(\"developer\", \"Anamika\")\n",
    "\n",
    "    mlflow.log_param(\"train-data-path\", \"/workspaces/mlops_zoomcamp_project/dataset/youtube_train.csv\")\n",
    "    mlflow.log_param(\"valid-data-path\", \"/workspaces/mlops_zoomcamp_project/dataset/youtube_test.csv\")\n",
    "    \n",
    "\n",
    "    alpha = 0.2\n",
    "    mlflow.log_param(\"alpha\", alpha)\n",
    "    lr = Lasso(alpha)\n",
    "    lr.fit(X_train, y_train)\n",
    "\n",
    "    y_pred = lr.predict(X_val)\n",
    "    rmse = mean_squared_error(y_val, y_pred, squared=False)\n",
    "    mlflow.log_metric(\"rmse\", rmse)\n",
    "\n",
    "    mlflow.log_artifact(local_path=\"/workspaces/mlops_zoomcamp_project/models/lin_reg.bin\", artifact_path=\"models_pickle\")"
   ]
  },
  {
   "cell_type": "code",
   "execution_count": null,
   "metadata": {},
   "outputs": [],
   "source": [
    "import xgboost as xgb\n",
    "from hyperopt import fmin, tpe, hp, STATUS_OK, Trials\n",
    "from hyperopt.pyll import scope"
   ]
  },
  {
   "cell_type": "code",
   "execution_count": null,
   "metadata": {},
   "outputs": [],
   "source": [
    "train = xgb.DMatrix(X_train, label=y_train)\n",
    "valid = xgb.DMatrix(X_val, label=y_val)"
   ]
  },
  {
   "cell_type": "code",
   "execution_count": null,
   "metadata": {},
   "outputs": [],
   "source": [
    "def objective(params):\n",
    "    with mlflow.start_run():\n",
    "        mlflow.set_tag(\"model\", \"xgboost\")\n",
    "        mlflow.log_params(params)\n",
    "        booster = xgb.train(\n",
    "            params=params,\n",
    "            dtrain=train,\n",
    "            num_boost_round=10,\n",
    "            evals=[(valid, 'validation')],\n",
    "            early_stopping_rounds=2\n",
    "        )\n",
    "        y_pred = booster.predict(valid)\n",
    "        rmse = mean_squared_error(y_val, y_pred, squared=False)\n",
    "        mlflow.log_metric(\"rmse\", rmse)\n",
    "\n",
    "    return {'loss': rmse, 'status': STATUS_OK}"
   ]
  },
  {
   "cell_type": "code",
   "execution_count": null,
   "metadata": {},
   "outputs": [],
   "source": [
    "search_space = {\n",
    "    'max_depth': scope.int(hp.quniform('max_depth', 4, 100, 1)),\n",
    "    'learning_rate': hp.loguniform('learning_rate', -3, 0),\n",
    "    'reg_alpha': hp.loguniform('reg_alpha', -5, -1),\n",
    "    'reg_lambda': hp.loguniform('reg_lambda', -6, -1),\n",
    "    'min_child_weight': hp.loguniform('min_child_weight', -1, 3),\n",
    "    'objective': 'reg:linear',\n",
    "    'seed': 42\n",
    "}\n",
    "\n",
    "best_result = fmin(\n",
    "    fn=objective,\n",
    "    space=search_space,\n",
    "    algo=tpe.suggest,\n",
    "    max_evals=10,\n",
    "    trials=Trials()\n",
    ")"
   ]
  }
 ],
 "metadata": {
  "language_info": {
   "name": "python"
  }
 },
 "nbformat": 4,
 "nbformat_minor": 2
}
